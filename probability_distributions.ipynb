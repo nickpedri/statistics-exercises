{
 "cells": [
  {
   "cell_type": "code",
   "execution_count": 1,
   "id": "572832d8-5fe9-4292-b026-0792033e3977",
   "metadata": {},
   "outputs": [],
   "source": [
    "import numpy as np\n",
    "from scipy import stats\n",
    "\n",
    "import matplotlib.pyplot as plt"
   ]
  },
  {
   "cell_type": "markdown",
   "id": "2c6a2832-e639-44c6-bdfd-340fb476c7c3",
   "metadata": {},
   "source": [
    "1. A bank found that the average number of cars waiting during the noon hour at a drive-up window follows a Poisson distribution with a mean of 2 cars. Make a chart of this distribution and answer these questions concerning the probability of cars waiting at the drive-up window.\n",
    "\n",
    "* What is the probability that no cars drive up in the noon hour?\n",
    "* What is the probability that 3 or more cars come through the drive through?\n",
    "* How likely is it that the drive through gets at least 1 car?"
   ]
  },
  {
   "cell_type": "code",
   "execution_count": 2,
   "id": "647a91c7-b8f1-4cdf-823c-99649e28c146",
   "metadata": {},
   "outputs": [
    {
     "data": {
      "image/png": "[encoded data removed]",
      "text/plain": [
       "<Figure size 640x480 with 1 Axes>"
      ]
     },
     "metadata": {},
     "output_type": "display_data"
    }
   ],
   "source": [
    "cars = stats.poisson(2)\n",
    "y = [cars.pmf(n) for n in range(0,11)]\n",
    "plt.bar(range(0,11),y)\n",
    "plt.show()"
   ]
  },
  {
   "cell_type": "code",
   "execution_count": 3,
   "id": "3c18d4fb-a1f6-4395-9bc8-969c506b3a1f",
   "metadata": {},
   "outputs": [
    {
     "data": {
      "text/plain": [
       "0.1353352832366127"
      ]
     },
     "execution_count": 3,
     "metadata": {},
     "output_type": "execute_result"
    }
   ],
   "source": [
    "y[0] # no cars at noon"
   ]
  },
  {
   "cell_type": "code",
   "execution_count": 4,
   "id": "4dba9f8d-e647-4849-a287-b57b25ce0052",
   "metadata": {},
   "outputs": [
    {
     "data": {
      "text/plain": [
       "0.32332358381693654"
      ]
     },
     "execution_count": 4,
     "metadata": {},
     "output_type": "execute_result"
    }
   ],
   "source": [
    "cars.sf(2) # chances of 3 cars or more"
   ]
  },
  {
   "cell_type": "code",
   "execution_count": 5,
   "id": "c3cc3a95-d3dc-468d-b961-4acfabf2d017",
   "metadata": {},
   "outputs": [
    {
     "data": {
      "text/plain": [
       "0.8646647167633873"
      ]
     },
     "execution_count": 5,
     "metadata": {},
     "output_type": "execute_result"
    }
   ],
   "source": [
    "cars.sf(0) # chances of one or more cars"
   ]
  },
  {
   "cell_type": "markdown",
   "id": "e70e963d-e86a-4fc8-b7d5-c6e508b42827",
   "metadata": {},
   "source": [
    "2. Grades of State University graduates are normally distributed with a mean of 3.0 and a standard deviation of .3. Calculate the following:\n",
    "\n",
    "* What grade point average is required to be in the top 5% of the graduating class?\n",
    "* What GPA constitutes the bottom 15% of the class?\n",
    "* An eccentric alumnus left scholarship money for students in the third decile from the bottom of their class. Determine the range of the third decile. Would a student with a 2.8 grade point average qualify for this scholarship?\n",
    "* If I have a GPA of 3.5, what percentile am I in?"
   ]
  },
  {
   "cell_type": "code",
   "execution_count": 6,
   "id": "72a1a169-ce1a-43c4-9a40-45d7526dffa2",
   "metadata": {},
   "outputs": [
    {
     "data": {
      "text/plain": [
       "array([3.03175322, 2.25495383, 3.24288922, 3.14127908, 3.04327554])"
      ]
     },
     "execution_count": 6,
     "metadata": {},
     "output_type": "execute_result"
    }
   ],
   "source": [
    "gpa = stats.norm(3.0,0.3)\n",
    "gpa.rvs(5)"
   ]
  },
  {
   "cell_type": "code",
   "execution_count": 7,
   "id": "c70e0ff6-cc00-4275-83c2-e773cba6fc5e",
   "metadata": {},
   "outputs": [
    {
     "data": {
      "text/plain": [
       "3.4934560880854417"
      ]
     },
     "execution_count": 7,
     "metadata": {},
     "output_type": "execute_result"
    }
   ],
   "source": [
    "gpa.isf(.05) # top 5% gpa"
   ]
  },
  {
   "cell_type": "code",
   "execution_count": 8,
   "id": "f5ebf3e3-4f49-4e9e-a152-0e85e0dee084",
   "metadata": {},
   "outputs": [
    {
     "data": {
      "text/plain": [
       "2.689069983151863"
      ]
     },
     "execution_count": 8,
     "metadata": {},
     "output_type": "execute_result"
    }
   ],
   "source": [
    "gpa.ppf(.15) # bottom 15% "
   ]
  },
  {
   "cell_type": "code",
   "execution_count": 9,
   "id": "e127c3d4-f54f-48b7-9eff-5c2e5bd0ee4c",
   "metadata": {},
   "outputs": [
    {
     "data": {
      "text/plain": [
       "[2.7475136299281258, 2.842679846187588]"
      ]
     },
     "execution_count": 9,
     "metadata": {},
     "output_type": "execute_result"
    }
   ],
   "source": [
    "deciles = [gpa.ppf(n/10) for n in [2,3]]\n",
    "deciles # students between this range of gpa would qualify for the scholarship\n",
    "# a student with a gpa of 2.8 would qualify"
   ]
  },
  {
   "cell_type": "code",
   "execution_count": 10,
   "id": "2b4de2e6-6fec-434b-81da-2f745e4040ea",
   "metadata": {},
   "outputs": [
    {
     "data": {
      "text/plain": [
       "95.22096477271853"
      ]
     },
     "execution_count": 10,
     "metadata": {},
     "output_type": "execute_result"
    }
   ],
   "source": [
    "gpa.cdf(3.5) * 100 # 95th percentile"
   ]
  },
  {
   "cell_type": "markdown",
   "id": "1f332d75-0c13-4521-ae64-b88d56741d5e",
   "metadata": {},
   "source": [
    "3. A marketing website has an average click-through rate of 2%. One day they observe 4326 visitors and 97 click-throughs. How likely is it that this many people or more click through?"
   ]
  },
  {
   "cell_type": "code",
   "execution_count": 11,
   "id": "526052c8-819f-481d-afcb-f21dff5fbc9a",
   "metadata": {},
   "outputs": [],
   "source": [
    "# use binom because they either clicked or didnt\n",
    "click = stats.binom(4326,.02)"
   ]
  },
  {
   "cell_type": "code",
   "execution_count": 12,
   "id": "f9de140a-ef92-47de-9f54-ccfcde9ca3bd",
   "metadata": {},
   "outputs": [
    {
     "data": {
      "text/plain": [
       "0.13975823631416448"
      ]
     },
     "execution_count": 12,
     "metadata": {},
     "output_type": "execute_result"
    }
   ],
   "source": [
    "click.sf(96)"
   ]
  },
  {
   "cell_type": "markdown",
   "id": "159aa3c2-701c-4b96-84e8-efcb00e56c32",
   "metadata": {},
   "source": [
    "4. You are working on some statistics homework consisting of 100 questions where all of the answers are a probability rounded to the hundreths place. Looking to save time, you put down random probabilities as the answer to each question.\n",
    "\n",
    "* What is the probability that at least one of your first 60 answers is correct?"
   ]
  },
  {
   "cell_type": "code",
   "execution_count": 13,
   "id": "34283bc1-fbef-41c2-8c07-41bf057b94ee",
   "metadata": {},
   "outputs": [
    {
     "data": {
      "text/plain": [
       "0.44955038406224"
      ]
     },
     "execution_count": 13,
     "metadata": {},
     "output_type": "execute_result"
    }
   ],
   "source": [
    "answers = stats.binom(60,1/101)\n",
    "answers.sf(0) # probability of getting more than 0 questions right in the first 60"
   ]
  },
  {
   "cell_type": "markdown",
   "id": "bb104ea1-8ea0-4e18-8a4c-28f4717332bf",
   "metadata": {},
   "source": [
    "5. The codeup staff tends to get upset when the student break area is not cleaned up. Suppose that there's a 3% chance that any one student cleans the break area when they visit it, and, on any given day, about 90% of the 3 active cohorts of 22 students visit the break area. How likely is it that the break area gets cleaned up each day? How likely is it that it goes two days without getting cleaned up? All week?"
   ]
  },
  {
   "cell_type": "code",
   "execution_count": 14,
   "id": "49a5a0d4-0bb8-4ccb-9f90-7f82a0196911",
   "metadata": {},
   "outputs": [
    {
     "data": {
      "text/plain": [
       "0.8342199288437352"
      ]
     },
     "execution_count": 14,
     "metadata": {},
     "output_type": "execute_result"
    }
   ],
   "source": [
    "# 3 * 22 = 66\n",
    "# 66 * .90 = 59.4 students\n",
    "clean = stats.binom(59,.03)\n",
    "daily_clean = clean.sf(0)\n",
    "daily_clean # 0.8342199288437352 chances of being cleaned each day"
   ]
  },
  {
   "cell_type": "code",
   "execution_count": 15,
   "id": "b7820f0c-4908-4cad-a5d6-6e2f2cdfbf63",
   "metadata": {},
   "outputs": [
    {
     "data": {
      "text/plain": [
       "0.027483031992576224"
      ]
     },
     "execution_count": 15,
     "metadata": {},
     "output_type": "execute_result"
    }
   ],
   "source": [
    "two_clean = stats.binom(2,daily_clean)\n",
    "two_clean.pmf(0) # chances of not being cleaned two days in a row"
   ]
  },
  {
   "cell_type": "code",
   "execution_count": 26,
   "id": "f3214997-00f5-4fa0-a2f9-bc86b4e458c5",
   "metadata": {},
   "outputs": [
    {
     "data": {
      "text/plain": [
       "0.00012521651388091348"
      ]
     },
     "execution_count": 26,
     "metadata": {},
     "output_type": "execute_result"
    }
   ],
   "source": [
    "week_clean = stats.binom(5,daily_clean) # chances of not being cleaned in a week\n",
    "week_clean.pmf(0)"
   ]
  },
  {
   "cell_type": "code",
   "execution_count": 17,
   "id": "85134a21-02f4-4a65-8fb6-ae82ff70d62b",
   "metadata": {},
   "outputs": [
    {
     "data": {
      "text/plain": [
       "0.999996558670543"
      ]
     },
     "execution_count": 17,
     "metadata": {},
     "output_type": "execute_result"
    }
   ],
   "source": [
    "week_clean.sf(0)"
   ]
  },
  {
   "cell_type": "markdown",
   "id": "9f6ddab7-cb33-4134-98f6-a60ec8b59c33",
   "metadata": {},
   "source": [
    "6. You want to get lunch at La Panaderia, but notice that the line is usually very long at lunchtime. After several weeks of careful observation, you notice that the average number of people in line when your lunch break starts is normally distributed with a mean of 15 and standard deviation of 3. If it takes 2 minutes for each person to order, and 10 minutes from ordering to getting your food, what is the likelihood that you have at least 15 minutes left to eat your food before you have to go back to class? Assume you have one hour for lunch, and ignore travel time to and from La Panaderia."
   ]
  },
  {
   "cell_type": "code",
   "execution_count": 28,
   "id": "3541cdcf-41fb-4909-bb02-ddb053c21892",
   "metadata": {},
   "outputs": [
    {
     "data": {
      "text/plain": [
       "16.5"
      ]
     },
     "execution_count": 28,
     "metadata": {},
     "output_type": "execute_result"
    }
   ],
   "source": [
    "60-10\n",
    "50-15\n",
    "35-2 \n",
    "33/2 # max number of people. Rounded down to 16 because you cant have half people"
   ]
  },
  {
   "cell_type": "code",
   "execution_count": 29,
   "id": "9ede2eed-daa4-4575-85a2-bc99baf1eff1",
   "metadata": {},
   "outputs": [
    {
     "data": {
      "text/plain": [
       "0.6305586598182363"
      ]
     },
     "execution_count": 29,
     "metadata": {},
     "output_type": "execute_result"
    }
   ],
   "source": [
    "lunch = stats.norm(15,3)\n",
    "1 - lunch.sf(16) # calculate likelyhood of more than 16 people being there. 17 means 36 min to order 46 to recieve food \n",
    "                    #leaving 14 only to eat.\n",
    "# 74.75% chance youll be able to ahve 15 min or more to eat"
   ]
  },
  {
   "cell_type": "markdown",
   "id": "4c697c4b-cec6-4aaf-9dc0-1a1bb7a806d9",
   "metadata": {},
   "source": [
    "7. Connect to the employees database and find the average salary of current employees, along with the standard deviation. For the following questions, calculate the answer based on modeling the employees salaries with a normal distribution defined by the calculated mean and standard deviation then compare this answer to the actual values present in the salaries dataset.\n",
    "\n",
    "* What percent of employees earn less than 60,000?\n",
    "* What percent of employees earn more than 95,000?\n",
    "* What percent of employees earn between 65,000 and 80,000?\n",
    "* What do the top 5% of employees make?"
   ]
  },
  {
   "cell_type": "code",
   "execution_count": 20,
   "id": "ed227358-749d-4000-8cd7-91ba33c4f0ee",
   "metadata": {},
   "outputs": [
    {
     "data": {
      "text/html": [
       "<div>\n",
       "<style scoped>\n",
       "    .dataframe tbody tr th:only-of-type {\n",
       "        vertical-align: middle;\n",
       "    }\n",
       "\n",
       "    .dataframe tbody tr th {\n",
       "        vertical-align: top;\n",
       "    }\n",
       "\n",
       "    .dataframe thead th {\n",
       "        text-align: right;\n",
       "    }\n",
       "</style>\n",
       "<table border=\"1\" class=\"dataframe\">\n",
       "  <thead>\n",
       "    <tr style=\"text-align: right;\">\n",
       "      <th></th>\n",
       "      <th>AVG(salary)</th>\n",
       "      <th>STDDEV(salary)</th>\n",
       "    </tr>\n",
       "  </thead>\n",
       "  <tbody>\n",
       "    <tr>\n",
       "      <th>0</th>\n",
       "      <td>72012.2359</td>\n",
       "      <td>17309.959336</td>\n",
       "    </tr>\n",
       "  </tbody>\n",
       "</table>\n",
       "</div>"
      ],
      "text/plain": [
       "   AVG(salary)  STDDEV(salary)\n",
       "0   72012.2359    17309.959336"
      ]
     },
     "execution_count": 20,
     "metadata": {},
     "output_type": "execute_result"
    }
   ],
   "source": [
    "import pandas as pd\n",
    "import env\n",
    "from sqlalchemy import text, create_engine\n",
    "\n",
    "url = env.get_connection('employees')\n",
    "engine = create_engine(url)\n",
    "sal = text('''\n",
    "        SELECT AVG(salary),STDDEV(salary) FROM employees as E\n",
    "        JOIN salaries as S USING(emp_no)\n",
    "        WHERE to_date > CURDATE()\n",
    "        ''')\n",
    "s = pd.read_sql(sal,engine.connect())\n",
    "s"
   ]
  },
  {
   "cell_type": "code",
   "execution_count": 21,
   "id": "4a244ce3-8d71-441e-96a4-517d135aae00",
   "metadata": {},
   "outputs": [],
   "source": [
    "salary = stats.norm(72_012.24,17309.96)"
   ]
  },
  {
   "cell_type": "code",
   "execution_count": 22,
   "id": "f15c8571-1770-482b-9b80-2ae4e8144b01",
   "metadata": {},
   "outputs": [
    {
     "data": {
      "text/plain": [
       "0.24385690499062396"
      ]
     },
     "execution_count": 22,
     "metadata": {},
     "output_type": "execute_result"
    }
   ],
   "source": [
    "1 - salary.sf(60_000) #~24.38% earn less than 60k"
   ]
  },
  {
   "cell_type": "code",
   "execution_count": 23,
   "id": "00fd1327-c1bf-48ab-bbb0-de133a9f5d56",
   "metadata": {},
   "outputs": [
    {
     "data": {
      "text/plain": [
       "0.09208778318255045"
      ]
     },
     "execution_count": 23,
     "metadata": {},
     "output_type": "execute_result"
    }
   ],
   "source": [
    "salary.sf(95_000)"
   ]
  },
  {
   "cell_type": "code",
   "execution_count": 24,
   "id": "a72195b0-ea4c-4c7a-822b-18d475ec73f7",
   "metadata": {},
   "outputs": [
    {
     "data": {
      "text/plain": [
       "0.3350612132350322"
      ]
     },
     "execution_count": 24,
     "metadata": {},
     "output_type": "execute_result"
    }
   ],
   "source": [
    "salary.cdf(80_000)-salary.cdf(65_000)"
   ]
  },
  {
   "cell_type": "code",
   "execution_count": 25,
   "id": "58665e20-681f-4495-89ca-901843c18f8b",
   "metadata": {},
   "outputs": [
    {
     "data": {
      "text/plain": [
       "100484.59048838491"
      ]
     },
     "execution_count": 25,
     "metadata": {},
     "output_type": "execute_result"
    }
   ],
   "source": [
    "salary.isf(.05)"
   ]
  }
 ],
 "metadata": {
  "kernelspec": {
   "display_name": "Python 3 (ipykernel)",
   "language": "python",
   "name": "python3"
  },
  "language_info": {
   "codemirror_mode": {
    "name": "ipython",
    "version": 3
   },
   "file_extension": ".py",
   "mimetype": "text/x-python",
   "name": "python",
   "nbconvert_exporter": "python",
   "pygments_lexer": "ipython3",
   "version": "3.10.9"
  }
 },
 "nbformat": 4,
 "nbformat_minor": 5
}
