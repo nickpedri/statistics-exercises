{
 "cells": [
  {
   "cell_type": "code",
   "execution_count": 1,
   "id": "08f85999-1654-4f5c-b348-6d092861cd9d",
   "metadata": {},
   "outputs": [],
   "source": [
    "import numpy as np\n",
    "import pandas as pd\n",
    "\n",
    "import matplotlib.pyplot as plt\n",
    "\n",
    "rng = np.random.default_rng(seed = 100)"
   ]
  },
  {
   "cell_type": "markdown",
   "id": "36678704-f4e6-49d8-8524-e7b9e500c0b8",
   "metadata": {},
   "source": [
    "1. How likely is it that you roll doubles when rolling two dice?"
   ]
  },
  {
   "cell_type": "code",
   "execution_count": 2,
   "id": "0499e78d-e5ab-4eb5-819d-58ffa61ca8bc",
   "metadata": {},
   "outputs": [
    {
     "data": {
      "text/plain": [
       "range(1, 7)"
      ]
     },
     "execution_count": 2,
     "metadata": {},
     "output_type": "execute_result"
    }
   ],
   "source": [
    "dice_nums = range(1,7)\n",
    "dice_nums"
   ]
  },
  {
   "cell_type": "code",
   "execution_count": 3,
   "id": "6963a48b-6f8c-4868-b97c-408cd3dce5af",
   "metadata": {},
   "outputs": [
    {
     "data": {
      "text/plain": [
       "0.1673"
      ]
     },
     "execution_count": 3,
     "metadata": {},
     "output_type": "execute_result"
    }
   ],
   "source": [
    "dice_x = rng.choice(dice_nums,10_000)\n",
    "dice_y = rng.choice(dice_nums,10_000)\n",
    "\n",
    "doubles = (dice_x == dice_y).sum() # total number of double rolls\n",
    "doubles / len(dice_y)"
   ]
  },
  {
   "cell_type": "markdown",
   "id": "256b41d2-6471-476e-80c0-9fa78b2fc982",
   "metadata": {},
   "source": [
    "2. If you flip 8 coins, what is the probability of getting exactly 3 heads? What is the probability of getting more than 3 heads?"
   ]
  },
  {
   "cell_type": "code",
   "execution_count": 4,
   "id": "9d9f305a-4247-44d7-a9b3-cf1fb96b05b5",
   "metadata": {},
   "outputs": [
    {
     "data": {
      "text/plain": [
       "array([[0, 0, 1, 1, 0, 0, 0, 0],\n",
       "       [0, 1, 0, 1, 0, 0, 1, 1],\n",
       "       [0, 1, 0, 0, 0, 1, 1, 1],\n",
       "       [0, 1, 1, 0, 1, 0, 0, 0],\n",
       "       [1, 0, 0, 0, 1, 0, 0, 1]])"
      ]
     },
     "execution_count": 4,
     "metadata": {},
     "output_type": "execute_result"
    }
   ],
   "source": [
    "# 1 = heads    0 = tails\n",
    "flips = rng.choice([0,1],(10_000,8))\n",
    "flips[:5] # creates 10,000 trials of 8 flips each"
   ]
  },
  {
   "cell_type": "code",
   "execution_count": 5,
   "id": "848ed0af-6be5-46d5-88cc-68175ea13f66",
   "metadata": {},
   "outputs": [],
   "source": [
    "coin = flips.sum(axis=1) # adds total number for trial where the sum is the number of heads out of 8"
   ]
  },
  {
   "cell_type": "code",
   "execution_count": 6,
   "id": "17b818b9-3b19-4dcf-a35c-20608b84b22a",
   "metadata": {},
   "outputs": [
    {
     "data": {
      "text/plain": [
       "0.2138"
      ]
     },
     "execution_count": 6,
     "metadata": {},
     "output_type": "execute_result"
    }
   ],
   "source": [
    "head_three = (coin == 3).sum() # total number of sequences with 3 heads\n",
    "head_three/len(coin)"
   ]
  },
  {
   "cell_type": "code",
   "execution_count": 7,
   "id": "0c534b4e-3862-4789-b745-5ea68624a6a9",
   "metadata": {},
   "outputs": [
    {
     "data": {
      "text/plain": [
       "0.6431"
      ]
     },
     "execution_count": 7,
     "metadata": {},
     "output_type": "execute_result"
    }
   ],
   "source": [
    "head_more_three = (coin > 3).sum() # total number of sequences with more than 3 heads\n",
    "head_more_three/len(coin)"
   ]
  },
  {
   "cell_type": "markdown",
   "id": "85c28b40-ac41-4b4d-afde-4d0c7479964e",
   "metadata": {},
   "source": [
    "3. There are approximitely 3 web development cohorts for every 1 data science cohort at Codeup. Assuming that Codeup randomly selects an alumni to put on a billboard, what are the odds that the two billboards I drive past both have data science students on them?"
   ]
  },
  {
   "cell_type": "code",
   "execution_count": 8,
   "id": "afbe72de-ba3c-4f76-84c0-5a6e8426d2a2",
   "metadata": {},
   "outputs": [
    {
     "data": {
      "text/plain": [
       "0.0606"
      ]
     },
     "execution_count": 8,
     "metadata": {},
     "output_type": "execute_result"
    }
   ],
   "source": [
    "# 1 = ds     0 = wd\n",
    "billb = rng.choice([0,0,0,1],(10_000,2))\n",
    "dsbill = billb.sum(axis=1)\n",
    "(dsbill == 2).sum()/len(billb)"
   ]
  },
  {
   "cell_type": "markdown",
   "id": "2b778934-730f-4a7c-960b-02ded54e95e5",
   "metadata": {},
   "source": [
    "4. Codeup students buy, on average, 3 poptart packages with a standard deviation of 1.5 a day from the snack vending machine. If on monday the machine is restocked with 17 poptart packages, how likely is it that I will be able to buy some poptarts on Friday afternoon? (Remember, if you have mean and standard deviation, use the np.random.normal) You'll need to make a judgement call on how to handle some of your values"
   ]
  },
  {
   "cell_type": "code",
   "execution_count": 9,
   "id": "fc7ae9a0-5a82-45b8-ad81-34e841347a53",
   "metadata": {},
   "outputs": [
    {
     "data": {
      "text/plain": [
       "0.9348"
      ]
     },
     "execution_count": 9,
     "metadata": {},
     "output_type": "execute_result"
    }
   ],
   "source": [
    "popt = rng.normal(3,1.5,(10_000,4)) # creates 4 days worth of simulated purchases\n",
    "pop_totals = popt.sum(axis=1) # adds total weeks worth of pop tarts bought\n",
    "(pop_totals < 16.5).sum()/len(popt) # for decimals of 16 if decimal was greater than .5 that pop tart \n",
    "                                    #was considered purchased."
   ]
  },
  {
   "cell_type": "markdown",
   "id": "68bb646f-8842-42b6-8c0b-2de52846bff2",
   "metadata": {},
   "source": [
    "5. Compare Heights\n",
    "* Men have an average height of 178 cm and standard deviation of 8cm.\n",
    "* Women have a mean of 170, sd = 6cm.\n",
    "* Since you have means and standard deviations, you can use np.random.normal to generate observations.\n",
    "* If a man and woman are chosen at random, what is the likelihood the woman is taller than the man?"
   ]
  },
  {
   "cell_type": "code",
   "execution_count": 10,
   "id": "af7c5b30-c15e-451b-92b9-908ed14519a4",
   "metadata": {},
   "outputs": [
    {
     "data": {
      "text/plain": [
       "0.214"
      ]
     },
     "execution_count": 10,
     "metadata": {},
     "output_type": "execute_result"
    }
   ],
   "source": [
    "m = rng.normal(178,8,(10_000))\n",
    "w = rng.normal(170,6,(10_000))\n",
    "\n",
    "(w>m).sum()/len(m)\n",
    "\n",
    "# There is around a 20.6% chance that a woman is taller than a man."
   ]
  },
  {
   "cell_type": "markdown",
   "id": "8216d7ad-ea4e-4326-8178-7d8a4efa36f2",
   "metadata": {},
   "source": [
    "6. When installing anaconda on a student's computer, there's a 1 in 250 chance that the download is corrupted and the installation fails. What are the odds that after having 50 students download anaconda, no one has an installation issue? 100 students?\n",
    "\n",
    "What is the probability that we observe an installation issue within the first 150 students that download anaconda?\n",
    "\n",
    "How likely is it that 450 students all download anaconda without an issue?"
   ]
  },
  {
   "cell_type": "code",
   "execution_count": 11,
   "id": "9ba550a4-2f2a-4893-bf35-5d80a8f41846",
   "metadata": {},
   "outputs": [
    {
     "data": {
      "text/plain": [
       "0.8183"
      ]
     },
     "execution_count": 11,
     "metadata": {},
     "output_type": "execute_result"
    }
   ],
   "source": [
    "cr = list(range(1,251)) # generates 250 different numbers from 1-250\n",
    "corruption = rng.choice(cr,(10_000,50))\n",
    "cdl = (corruption == 1).sum(axis=1)\n",
    "1 - (cdl >= 1).sum()/len(corruption)"
   ]
  },
  {
   "cell_type": "code",
   "execution_count": 12,
   "id": "58402181-e414-4539-aba2-3e8bc64b53d1",
   "metadata": {},
   "outputs": [
    {
     "data": {
      "text/plain": [
       "0.6602"
      ]
     },
     "execution_count": 12,
     "metadata": {},
     "output_type": "execute_result"
    }
   ],
   "source": [
    "corruption = rng.choice(cr,(10_000,100))\n",
    "cdl = (corruption == 1).sum(axis=1)\n",
    "1 - (cdl >= 1).sum()/len(corruption)"
   ]
  },
  {
   "cell_type": "code",
   "execution_count": 13,
   "id": "2eed60d6-e798-42fb-96e5-8efe78750e9a",
   "metadata": {},
   "outputs": [
    {
     "data": {
      "text/plain": [
       "0.4506"
      ]
     },
     "execution_count": 13,
     "metadata": {},
     "output_type": "execute_result"
    }
   ],
   "source": [
    "corruption = rng.choice(cr,(10_000,150))\n",
    "cdl = (corruption == 1).sum(axis=1)\n",
    "(cdl >= 1).sum()/len(corruption) # chances to observe an issue"
   ]
  },
  {
   "cell_type": "code",
   "execution_count": 14,
   "id": "891e66ca-b55d-4fe9-b46c-8f56ef25aa01",
   "metadata": {},
   "outputs": [
    {
     "data": {
      "text/plain": [
       "0.1593"
      ]
     },
     "execution_count": 14,
     "metadata": {},
     "output_type": "execute_result"
    }
   ],
   "source": [
    "corruption = rng.choice(cr,(10_000,450))\n",
    "cdl = (corruption == 1).sum(axis=1)\n",
    "1 - (cdl >= 1).sum()/len(corruption)"
   ]
  },
  {
   "cell_type": "markdown",
   "id": "28dbb8a8-17f0-430e-bbae-41c893eb0983",
   "metadata": {},
   "source": [
    "7. There's a 70% chance on any given day that there will be at least one food truck at Travis Park. However, you haven't seen a food truck there in 3 days. How unlikely is this?\n",
    "\n",
    "How likely is it that a food truck will show up sometime this week?"
   ]
  },
  {
   "cell_type": "code",
   "execution_count": 15,
   "id": "f98a2a6b-d979-4d82-aba5-28db58215555",
   "metadata": {},
   "outputs": [
    {
     "data": {
      "text/plain": [
       "0.0255"
      ]
     },
     "execution_count": 15,
     "metadata": {},
     "output_type": "execute_result"
    }
   ],
   "source": [
    "food = rng.random((10_000,3))\n",
    "no_food = (food < .3).sum(axis=1) # 3 means truck didnt show up 3 times this week\n",
    "(no_food == 3).sum()/len(food)"
   ]
  },
  {
   "cell_type": "code",
   "execution_count": 16,
   "id": "9c8af40c-cb35-477c-9354-8e12c6b16b51",
   "metadata": {},
   "outputs": [
    {
     "data": {
      "text/plain": [
       "0.9999"
      ]
     },
     "execution_count": 16,
     "metadata": {},
     "output_type": "execute_result"
    }
   ],
   "source": [
    "food = rng.random((10_000,7))\n",
    "no_food = (food > .3).sum(axis=1) # returns lists of 7 boolean values with true meaning truck showed up\n",
    "(no_food >= 1).sum()/len(food) # extremely"
   ]
  },
  {
   "cell_type": "markdown",
   "id": "b223dbc3-c01c-4302-aed9-8bfea26b18f3",
   "metadata": {},
   "source": [
    "8. If 23 people are in the same room, what are the odds that two of them share a birthday? What if it's 20 people? 40?"
   ]
  },
  {
   "cell_type": "code",
   "execution_count": 17,
   "id": "c9da9909-9233-4411-bf42-92edd2a69619",
   "metadata": {},
   "outputs": [
    {
     "data": {
      "text/plain": [
       "5025"
      ]
     },
     "execution_count": 17,
     "metadata": {},
     "output_type": "execute_result"
    }
   ],
   "source": [
    "birth = list(range(1,366))\n",
    "bd = rng.choice(birth,(10_000,23))\n",
    "bds = pd.DataFrame(bd)\n",
    "ubds = bds.nunique(axis=1)\n",
    "(ubds != 23).sum()"
   ]
  },
  {
   "cell_type": "code",
   "execution_count": 18,
   "id": "d3795d53-af03-4d1f-acb1-a5c37e07543e",
   "metadata": {},
   "outputs": [
    {
     "data": {
      "text/plain": [
       "4119"
      ]
     },
     "execution_count": 18,
     "metadata": {},
     "output_type": "execute_result"
    }
   ],
   "source": [
    "birth = list(range(1,366))\n",
    "bd = rng.choice(birth,(10_000,20))\n",
    "bds = pd.DataFrame(bd)\n",
    "ubds = bds.nunique(axis=1)\n",
    "(ubds != 20).sum()"
   ]
  },
  {
   "cell_type": "code",
   "execution_count": 19,
   "id": "8ce17f8c-fe0b-4f6f-8655-25fa72f29b02",
   "metadata": {},
   "outputs": [
    {
     "data": {
      "text/plain": [
       "8943"
      ]
     },
     "execution_count": 19,
     "metadata": {},
     "output_type": "execute_result"
    }
   ],
   "source": [
    "birth = list(range(1,366))\n",
    "bd = rng.choice(birth,(10_000,40))\n",
    "bds = pd.DataFrame(bd)\n",
    "ubds = bds.nunique(axis=1)\n",
    "(ubds != 40).sum()"
   ]
  },
  {
   "cell_type": "code",
   "execution_count": null,
   "id": "2fadc905-0f24-4bc0-aef3-764943af55a7",
   "metadata": {},
   "outputs": [],
   "source": []
  }
 ],
 "metadata": {
  "kernelspec": {
   "display_name": "Python 3 (ipykernel)",
   "language": "python",
   "name": "python3"
  },
  "language_info": {
   "codemirror_mode": {
    "name": "ipython",
    "version": 3
   },
   "file_extension": ".py",
   "mimetype": "text/x-python",
   "name": "python",
   "nbconvert_exporter": "python",
   "pygments_lexer": "ipython3",
   "version": "3.10.9"
  }
 },
 "nbformat": 4,
 "nbformat_minor": 5
}
